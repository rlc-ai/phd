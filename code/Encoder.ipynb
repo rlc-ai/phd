{
 "cells": [
  {
   "cell_type": "code",
   "execution_count": 1,
   "id": "0641f63a-1575-4f31-b5f6-c94933917f99",
   "metadata": {},
   "outputs": [],
   "source": [
    "import pandas as pd\n",
    "import numpy as np\n",
    "import matplotlib.pyplot as plt\n",
    "import tensorflow as tf\n",
    "#from keras import backend as K\n",
    "import os\n",
    "#os.environ[\"KMP_DUPLICATE_LIB_OK\"]=\"TRUE\"\n",
    "import matplotlib.colors as colors\n",
    "from scipy.spatial.distance import cdist\n",
    "#from keras import backend as K\n",
    "from sklearn.cluster import KMeans\n",
    "from sklearn.metrics import mean_squared_error\n",
    "tf.keras.backend.set_floatx('float64')"
   ]
  },
  {
   "cell_type": "code",
   "execution_count": 2,
   "id": "bcad6194-a078-43fb-ad56-49c180362e55",
   "metadata": {},
   "outputs": [
    {
     "name": "stdout",
     "output_type": "stream",
     "text": [
      "0.8 0.0\n",
      "-0.39999999999999986 0.6928203230275511\n",
      "-0.40000000000000036 -0.6928203230275507\n"
     ]
    }
   ],
   "source": [
    "theta=np.linspace(0, 2*np.pi, num=200)\n",
    "eta=[2*i*np.pi/3 for i in range(3)]\n",
    "r0=0.8\n",
    "r1=0.1\n",
    "\n",
    "X=[]\n",
    "for e in eta:\n",
    "    x0=r0*np.cos(e)\n",
    "    y0=r0*np.sin(e)\n",
    "    print(x0,y0)\n",
    "    for t in theta:\n",
    "        X.append([x0+r1*np.cos(t),y0+r1*np.sin(t)])\n",
    "X=np.array(X)"
   ]
  },
  {
   "cell_type": "code",
   "execution_count": 3,
   "id": "b9e5b5ad-5ef5-4bf3-95a4-b265034cdedc",
   "metadata": {},
   "outputs": [
    {
     "data": {
      "text/plain": [
       "(-1.0, 1.0, -1.0, 1.0)"
      ]
     },
     "execution_count": 3,
     "metadata": {},
     "output_type": "execute_result"
    },
    {
     "data": {
      "image/png": "[encoded data removed]",
      "text/plain": [
       "<Figure size 432x288 with 1 Axes>"
      ]
     },
     "metadata": {
      "needs_background": "light"
     },
     "output_type": "display_data"
    }
   ],
   "source": [
    "import matplotlib.pyplot as plt\n",
    "plt.scatter(X[:200,0],X[:200,1],s=.1,c='red')\n",
    "plt.scatter(X[200:400,0],X[200:400,1],s=.1,c='blue')\n",
    "plt.scatter(X[400:600,0],X[400:600,1],s=.1, c='green')\n",
    "plt.axis([-1,1,-1,1])"
   ]
  },
  {
   "cell_type": "markdown",
   "id": "81563c37-d609-4a5c-be58-758c99212884",
   "metadata": {},
   "source": [
    "np.random.shuffle(X)"
   ]
  },
  {
   "cell_type": "code",
   "execution_count": null,
   "id": "7ef4fdc6-0577-42fe-aa55-617e72000dfa",
   "metadata": {},
   "outputs": [],
   "source": [
    "plt.scatter(X[:200,0],X[:200,1],s=.1)\n",
    "plt.scatter(X[200:400,0],X[200:400,1],s=.1)\n",
    "plt.scatter(X[400:600,0],X[400:600,1],s=.1)\n",
    "plt.axis([-1,1,-1,1])"
   ]
  },
  {
   "cell_type": "code",
   "execution_count": 4,
   "id": "2b1bd886-9985-4e34-ba6a-5c2e92699a9a",
   "metadata": {},
   "outputs": [
    {
     "name": "stdout",
     "output_type": "stream",
     "text": [
      "Model: \"model\"\n",
      "_________________________________________________________________\n",
      "Layer (type)                 Output Shape              Param #   \n",
      "=================================================================\n",
      "input_1 (InputLayer)         [(None, 2)]               0         \n",
      "_________________________________________________________________\n",
      "dense (Dense)                (None, 8)                 24        \n",
      "_________________________________________________________________\n",
      "dense_1 (Dense)              (None, 4)                 36        \n",
      "_________________________________________________________________\n",
      "dense_2 (Dense)              (None, 8)                 40        \n",
      "_________________________________________________________________\n",
      "dense_3 (Dense)              (None, 2)                 18        \n",
      "=================================================================\n",
      "Total params: 118\n",
      "Trainable params: 118\n",
      "Non-trainable params: 0\n",
      "_________________________________________________________________\n"
     ]
    },
    {
     "name": "stderr",
     "output_type": "stream",
     "text": [
      "2022-04-10 19:26:30.746010: I tensorflow/core/platform/cpu_feature_guard.cc:145] This TensorFlow binary is optimized with Intel(R) MKL-DNN to use the following CPU instructions in performance critical operations:  SSE4.1 SSE4.2 AVX AVX2 FMA\n",
      "To enable them in non-MKL-DNN operations, rebuild TensorFlow with the appropriate compiler flags.\n",
      "2022-04-10 19:26:30.746762: I tensorflow/core/common_runtime/process_util.cc:115] Creating new thread pool with default inter op setting: 12. Tune using inter_op_parallelism_threads for best performance.\n"
     ]
    }
   ],
   "source": [
    "input=tf.keras.layers.Input(shape=(2,),dtype=tf.float64)\n",
    "encoded=tf.keras.layers.Dense(8,activation='tanh',dtype=tf.float64)(input)\n",
    "encoded=tf.keras.layers.Dense(4,activation='tanh',dtype=tf.float64)(encoded)\n",
    "decoded=tf.keras.layers.Dense(8,activation='tanh',dtype=tf.float64)(encoded)\n",
    "output=tf.keras.layers.Dense(2,activation='tanh',dtype=tf.float64)(decoded)\n",
    "model=tf.keras.models.Model(input,output)\n",
    "model.compile(optimizer=\"Adam\", loss=\"mse\")\n",
    "enc=tf.keras.models.Model(input,encoded)\n",
    "model.summary()"
   ]
  },
  {
   "cell_type": "code",
   "execution_count": 5,
   "id": "6bff7c54-2c8a-4784-ba16-63bc4182f066",
   "metadata": {},
   "outputs": [
    {
     "data": {
      "text/plain": [
       "(600, 2)"
      ]
     },
     "execution_count": 5,
     "metadata": {},
     "output_type": "execute_result"
    }
   ],
   "source": [
    "X.shape"
   ]
  },
  {
   "cell_type": "code",
   "execution_count": null,
   "id": "8241a0af-57fb-45da-9798-2dcba9759bcd",
   "metadata": {
    "tags": []
   },
   "outputs": [],
   "source": [
    "history=model.fit(X[200:400],X[200:400],epochs=10000,verbose=0)"
   ]
  },
  {
   "cell_type": "code",
   "execution_count": null,
   "id": "9b5e934e-a4c9-4647-9d25-af4699b3b9cc",
   "metadata": {},
   "outputs": [],
   "source": [
    "Y=model.predict(X[200:400])\n",
    "\n",
    "fig, (ax0, ax1, ax2) = plt.subplots(nrows=1, ncols=3,figsize=(50, 6))\n",
    "\n",
    "ax0.plot(range(len(history.history['loss'])-1000),history.history['loss'][1000:])\n",
    "ax1.set_title('training error')\n",
    "for i in range(1,2):\n",
    "    ax1.plot(range(200),np.linalg.norm(X[i*200:(i+1)*200,:]-Y[(i-1)*200:(i)*200,:],axis=1))\n",
    "\n",
    "ax2.set_title('error on data set')\n",
    "ax2.scatter(X[:,0],X[:,1])\n",
    "ax2.scatter(Y[:,0],Y[:,1])"
   ]
  },
  {
   "cell_type": "code",
   "execution_count": null,
   "id": "600ec89d-411f-4f36-b1e7-80954782f607",
   "metadata": {},
   "outputs": [],
   "source": [
    "w=[]\n",
    "for i in range(1,5):\n",
    "    W,b=model.layers[i].get_weights()\n",
    "    w.append({'W':W,'b':b})"
   ]
  },
  {
   "cell_type": "code",
   "execution_count": null,
   "id": "c26b3c9b-78d3-40fa-a899-19cdeaf75228",
   "metadata": {},
   "outputs": [],
   "source": [
    "w"
   ]
  },
  {
   "cell_type": "code",
   "execution_count": null,
   "id": "f313d485-7eb4-4697-8047-3408ebb92166",
   "metadata": {},
   "outputs": [],
   "source": [
    "np.linalg.eig(w[1]['W'].dot(w[1]['W'].transpose()))"
   ]
  },
  {
   "cell_type": "code",
   "execution_count": null,
   "id": "4dbe5eb5-2bf2-4f15-8142-17de038543ad",
   "metadata": {},
   "outputs": [],
   "source": [
    "np.linalg.eig(w[1]['W'].transpose().dot(w[1]['W']))"
   ]
  }
 ],
 "metadata": {
  "kernelspec": {
   "display_name": "Python 3 (ipykernel)",
   "language": "python",
   "name": "python3"
  },
  "language_info": {
   "codemirror_mode": {
    "name": "ipython",
    "version": 3
   },
   "file_extension": ".py",
   "mimetype": "text/x-python",
   "name": "python",
   "nbconvert_exporter": "python",
   "pygments_lexer": "ipython3",
   "version": "3.7.13"
  }
 },
 "nbformat": 4,
 "nbformat_minor": 5
}
