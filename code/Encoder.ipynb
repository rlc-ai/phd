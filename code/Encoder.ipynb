{
 "cells": [
  {
   "cell_type": "code",
   "execution_count": 1,
   "id": "0641f63a-1575-4f31-b5f6-c94933917f99",
   "metadata": {},
   "outputs": [
    {
     "ename": "ModuleNotFoundError",
     "evalue": "No module named 'sklearn'",
     "output_type": "error",
     "traceback": [
      "\u001b[0;31m---------------------------------------------------------------------------\u001b[0m",
      "\u001b[0;31mModuleNotFoundError\u001b[0m                       Traceback (most recent call last)",
      "\u001b[0;32m<ipython-input-1-24b4dbf752ef>\u001b[0m in \u001b[0;36m<module>\u001b[0;34m\u001b[0m\n\u001b[1;32m      9\u001b[0m \u001b[0;32mfrom\u001b[0m \u001b[0mscipy\u001b[0m\u001b[0;34m.\u001b[0m\u001b[0mspatial\u001b[0m\u001b[0;34m.\u001b[0m\u001b[0mdistance\u001b[0m \u001b[0;32mimport\u001b[0m \u001b[0mcdist\u001b[0m\u001b[0;34m\u001b[0m\u001b[0;34m\u001b[0m\u001b[0m\n\u001b[1;32m     10\u001b[0m \u001b[0;31m#from keras import backend as K\u001b[0m\u001b[0;34m\u001b[0m\u001b[0;34m\u001b[0m\u001b[0;34m\u001b[0m\u001b[0m\n\u001b[0;32m---> 11\u001b[0;31m \u001b[0;32mfrom\u001b[0m \u001b[0msklearn\u001b[0m\u001b[0;34m.\u001b[0m\u001b[0mcluster\u001b[0m \u001b[0;32mimport\u001b[0m \u001b[0mKMeans\u001b[0m\u001b[0;34m\u001b[0m\u001b[0;34m\u001b[0m\u001b[0m\n\u001b[0m\u001b[1;32m     12\u001b[0m \u001b[0;32mfrom\u001b[0m \u001b[0msklearn\u001b[0m\u001b[0;34m.\u001b[0m\u001b[0mmetrics\u001b[0m \u001b[0;32mimport\u001b[0m \u001b[0mmean_squared_error\u001b[0m\u001b[0;34m\u001b[0m\u001b[0;34m\u001b[0m\u001b[0m\n",
      "\u001b[0;31mModuleNotFoundError\u001b[0m: No module named 'sklearn'"
     ]
    }
   ],
   "source": [
    "import pandas as pd\n",
    "import numpy as np\n",
    "import matplotlib.pyplot as plt\n",
    "import tensorflow as tf\n",
    "#from keras import backend as K\n",
    "import os\n",
    "os.environ[\"KMP_DUPLICATE_LIB_OK\"]=\"TRUE\"\n",
    "import matplotlib.colors as colors\n",
    "from scipy.spatial.distance import cdist\n",
    "#from keras import backend as K\n",
    "from sklearn.cluster import KMeans\n",
    "from sklearn.metrics import mean_squared_error"
   ]
  },
  {
   "cell_type": "code",
   "execution_count": null,
   "id": "2b1bd886-9985-4e34-ba6a-5c2e92699a9a",
   "metadata": {},
   "outputs": [],
   "source": [
    "input=tf.keras.layers.Input(shape=(2,),dtype=tf.float64)\n",
    "encoded=tf.keras.layers.Dense(8,activation='tanh')(input)\n",
    "encoded=tf.keras.layers.Dense(4,activation='tanh')(encoded)\n",
    "decoded=tf.keras.layers.Dense(8,activation='tanh')(encoded)\n",
    "output=tf.keras.layers.Dense(2,activation='tanh')(decoded)\n",
    "model=tf.keras.models.Model(input,output)\n",
    "model.compile(optimizer=\"Adam\", loss=\"mse\")\n"
   ]
  },
  {
   "cell_type": "code",
   "execution_count": null,
   "id": "93a76afe-1ff3-4ec0-8d93-8788d2f1f423",
   "metadata": {},
   "outputs": [],
   "source": [
    "#dec_inp=tf.keras.layers.Input(shape=(4,),dtype=tf.float64)\n",
    "enc=tf.keras.models.Model(input,encoded)"
   ]
  },
  {
   "cell_type": "code",
   "execution_count": null,
   "id": "ebd7b616-045c-4217-b9e7-9a1fe0595a6b",
   "metadata": {},
   "outputs": [],
   "source": [
    "theta=np.linspace(0, 2*np.pi, num=200)\n",
    "eta=[2*i*np.pi/3 for i in range(3)]\n",
    "r0=0.8\n",
    "r1=0.1"
   ]
  },
  {
   "cell_type": "code",
   "execution_count": null,
   "id": "bcad6194-a078-43fb-ad56-49c180362e55",
   "metadata": {},
   "outputs": [],
   "source": [
    "X=[]\n",
    "for e in eta:\n",
    "    x0=r0*np.cos(e)\n",
    "    y0=r0*np.sin(e)\n",
    "    print(x0,y0)\n",
    "    for t in theta:\n",
    "        X.append([x0+r1*np.cos(t),y0+r1*np.sin(t)])\n",
    "X=np.array(X)"
   ]
  },
  {
   "cell_type": "code",
   "execution_count": null,
   "id": "58268f76-3ffd-490a-9a5d-2334571edaff",
   "metadata": {},
   "outputs": [],
   "source": [
    "X=np.array([[r0*np.cos(e)+r1*np.cos(t),r0*np.sin(e)+r1*np.sin(t)] for e in eta for t in theta])"
   ]
  },
  {
   "cell_type": "code",
   "execution_count": null,
   "id": "3eae2332-e7e6-48e1-9fe3-35c0e2e51c06",
   "metadata": {},
   "outputs": [],
   "source": [
    "Y=enc.predict(X)"
   ]
  },
  {
   "cell_type": "code",
   "execution_count": null,
   "id": "89f0753f-f363-4c12-9b4d-4b14d274e1a8",
   "metadata": {},
   "outputs": [],
   "source": [
    "import itertools"
   ]
  },
  {
   "cell_type": "code",
   "execution_count": null,
   "id": "0638404f-e811-4634-838a-1fb7187c184c",
   "metadata": {},
   "outputs": [],
   "source": [
    "def is_good(t1,t2):\n",
    "    d=0\n",
    "    for i in range(len(t1)):\n",
    "        if t1[i]!=t2[i]:\n",
    "            d+=1\n",
    "    if d>2:\n",
    "        return True\n",
    "    return False\n",
    "\n",
    "def has_to_add(u,t1):\n",
    "    for i in range(len(u)):\n",
    "        if is_good(u[i],t1):\n",
    "            pass\n",
    "        else:\n",
    "            return False\n",
    "    return True"
   ]
  },
  {
   "cell_type": "code",
   "execution_count": null,
   "id": "e243d971-d141-45db-8db6-be31f59527d0",
   "metadata": {
    "tags": []
   },
   "outputs": [],
   "source": [
    "p=list(itertools.permutations([0,1,2,3]))\n",
    "up=[p[0]]\n",
    "for i in range(len(p)):\n",
    "    if has_to_add(up,p[i]):\n",
    "        up.append(p[i])"
   ]
  },
  {
   "cell_type": "code",
   "execution_count": null,
   "id": "8d32360e-18bf-45d9-9d6a-970b80cb8e77",
   "metadata": {},
   "outputs": [],
   "source": [
    "up"
   ]
  },
  {
   "cell_type": "code",
   "execution_count": null,
   "id": "0e450c59-2afa-4921-adda-42ccea959757",
   "metadata": {},
   "outputs": [],
   "source": [
    "for p in list(up):\n",
    "    plt.scatter(Y[:,p[0]],Y[:,p[1]])\n",
    "    plt.scatter(Y[:,p[2]],Y[:,p[3]])"
   ]
  },
  {
   "cell_type": "code",
   "execution_count": null,
   "id": "f053c588-120e-4d5e-994e-5efc854323e5",
   "metadata": {},
   "outputs": [],
   "source": [
    "model.fit(X,X,epochs=5000, verbose=0)"
   ]
  },
  {
   "cell_type": "code",
   "execution_count": null,
   "id": "8b49a913-b28c-4c46-9eea-f5101dabcf4c",
   "metadata": {},
   "outputs": [],
   "source": [
    "Y=model.predict(X)\n",
    "plt.scatter(X[:,0],X[:,1])\n",
    "plt.scatter(Y[:,0],Y[:,1])"
   ]
  },
  {
   "cell_type": "code",
   "execution_count": null,
   "id": "57fce2f0-580a-4ff1-81dd-d3cf65086a08",
   "metadata": {},
   "outputs": [],
   "source": [
    "model.summary()"
   ]
  },
  {
   "cell_type": "code",
   "execution_count": null,
   "id": "600ec89d-411f-4f36-b1e7-80954782f607",
   "metadata": {},
   "outputs": [],
   "source": [
    "w=[]\n",
    "for i in range(1,5):\n",
    "    W,b=model.layers[i].get_weights()\n",
    "    w.append({'W':W,'b':b})"
   ]
  },
  {
   "cell_type": "code",
   "execution_count": null,
   "id": "c26b3c9b-78d3-40fa-a899-19cdeaf75228",
   "metadata": {},
   "outputs": [],
   "source": [
    "w"
   ]
  },
  {
   "cell_type": "code",
   "execution_count": null,
   "id": "f313d485-7eb4-4697-8047-3408ebb92166",
   "metadata": {},
   "outputs": [],
   "source": [
    "np.linalg.eig(w[1]['W'].dot(w[1]['W'].transpose()))"
   ]
  },
  {
   "cell_type": "code",
   "execution_count": null,
   "id": "4dbe5eb5-2bf2-4f15-8142-17de038543ad",
   "metadata": {},
   "outputs": [],
   "source": [
    "np.linalg.eig(w[1]['W'].transpose().dot(w[1]['W']))"
   ]
  },
  {
   "cell_type": "code",
   "execution_count": null,
   "id": "d7049469-a93b-4431-a073-d53ab5e6e45e",
   "metadata": {},
   "outputs": [],
   "source": [
    "vecs"
   ]
  },
  {
   "cell_type": "code",
   "execution_count": null,
   "id": "6ca789dd-2e6a-4f40-ac35-690f1014d72b",
   "metadata": {},
   "outputs": [],
   "source": [
    "np.linalg.norm(vecs[:,1])"
   ]
  },
  {
   "cell_type": "code",
   "execution_count": null,
   "id": "af9fa858-3732-4aba-86d6-a91ebc18ed77",
   "metadata": {},
   "outputs": [],
   "source": [
    "vecs"
   ]
  },
  {
   "cell_type": "code",
   "execution_count": null,
   "id": "b40f549d-d9db-4967-b623-1f32c802d26b",
   "metadata": {},
   "outputs": [],
   "source": [
    "v=np.array([-1-3**0.5, 1])\n",
    "v/np.linalg.norm(v)"
   ]
  },
  {
   "cell_type": "code",
   "execution_count": null,
   "id": "b790a89f-afe1-46b2-9729-d672265a07b5",
   "metadata": {},
   "outputs": [],
   "source": [
    "C=vecs.transpose()"
   ]
  },
  {
   "cell_type": "code",
   "execution_count": null,
   "id": "9dcbb6b5-cfa1-460c-a164-d237f6d02c3a",
   "metadata": {},
   "outputs": [],
   "source": [
    "C"
   ]
  },
  {
   "cell_type": "code",
   "execution_count": null,
   "id": "3260ade6-4cfc-44e5-ba9c-c944fdc81b43",
   "metadata": {},
   "outputs": [],
   "source": [
    "C**-1*(A*C)"
   ]
  },
  {
   "cell_type": "code",
   "execution_count": null,
   "id": "48287e9b-7a84-48fe-97bc-c7d5f81fe3d9",
   "metadata": {},
   "outputs": [],
   "source": [
    "C=np.array([[-1-3**0.5, -1+3**0.5],[1, 1]])"
   ]
  },
  {
   "cell_type": "code",
   "execution_count": null,
   "id": "4d06ffdd-da64-47ea-ab62-ee773a97f38f",
   "metadata": {},
   "outputs": [],
   "source": [
    "C"
   ]
  },
  {
   "cell_type": "code",
   "execution_count": null,
   "id": "7bde287a-055a-4610-8878-fe78ccec25f9",
   "metadata": {},
   "outputs": [],
   "source": [
    "np.linalg.inv(C)*(A*C)"
   ]
  },
  {
   "cell_type": "code",
   "execution_count": null,
   "id": "76cfca8b-af03-4cb8-a865-d70a6b1c06ba",
   "metadata": {},
   "outputs": [],
   "source": [
    "1+3**0.5/2\n"
   ]
  },
  {
   "cell_type": "code",
   "execution_count": null,
   "id": "72a610e2-b285-4765-a8bd-f34f76f9a0fe",
   "metadata": {},
   "outputs": [],
   "source": [
    "np.dot(A,A)"
   ]
  },
  {
   "cell_type": "code",
   "execution_count": null,
   "id": "f1cbb6e2-bdb7-4091-bc7e-6efd1d7d0b89",
   "metadata": {},
   "outputs": [],
   "source": [
    "A"
   ]
  },
  {
   "cell_type": "code",
   "execution_count": null,
   "id": "a4f14fb7-0be3-45f8-a008-8484b306271c",
   "metadata": {},
   "outputs": [],
   "source": [
    "np.linalg.eig(A)"
   ]
  },
  {
   "cell_type": "code",
   "execution_count": null,
   "id": "eac03b2e-93c0-429b-b03f-0b98663fbb72",
   "metadata": {},
   "outputs": [],
   "source": [
    "1+3**0.5/2"
   ]
  },
  {
   "cell_type": "code",
   "execution_count": null,
   "id": "2ee68819-7406-4b44-b21b-cde2d28245b8",
   "metadata": {},
   "outputs": [],
   "source": [
    "1-3**0.5/2"
   ]
  },
  {
   "cell_type": "code",
   "execution_count": null,
   "id": "5ff9fa4d-869a-4a95-ac3d-df55554cd418",
   "metadata": {},
   "outputs": [],
   "source": [
    "A@A"
   ]
  },
  {
   "cell_type": "code",
   "execution_count": null,
   "id": "a8c2fe0b-4399-44b9-b1c5-d00d50976d9e",
   "metadata": {},
   "outputs": [],
   "source": [
    "x=1\n",
    "f=x**6/6-3*x**4-2*x**3/3+27*x**2/2+18*x-30\n",
    "f_p=x**5-12*x**3-2*x**2+27*x+18\n",
    "-f/f_p"
   ]
  },
  {
   "cell_type": "code",
   "execution_count": null,
   "id": "0736c53e-bdc7-4afb-8105-18c91af87b10",
   "metadata": {},
   "outputs": [],
   "source": [
    "\n",
    "1/16"
   ]
  },
  {
   "cell_type": "code",
   "execution_count": null,
   "id": "b9f6eb77-d051-4593-b3a0-14c62e13603e",
   "metadata": {},
   "outputs": [],
   "source": [
    "print(0.75/0.4)"
   ]
  },
  {
   "cell_type": "code",
   "execution_count": null,
   "id": "2ec9eb88-ef3b-40d2-af40-03c4354b18cc",
   "metadata": {},
   "outputs": [],
   "source": [
    "D=np.array([1,2,3,2])"
   ]
  },
  {
   "cell_type": "code",
   "execution_count": null,
   "id": "3dcb6c92-4007-4905-984e-55b06a2e90d8",
   "metadata": {},
   "outputs": [],
   "source": [
    "D+1"
   ]
  },
  {
   "cell_type": "code",
   "execution_count": null,
   "id": "bf9e3d5f-22a5-49ae-bc47-6b65ab5a5093",
   "metadata": {},
   "outputs": [],
   "source": [
    "np.var(D*2.)"
   ]
  },
  {
   "cell_type": "code",
   "execution_count": null,
   "id": "9fd26194-f0a1-46e1-b5be-5533d19edb66",
   "metadata": {},
   "outputs": [],
   "source": [
    "np.mean([1,2,3,2])"
   ]
  },
  {
   "cell_type": "code",
   "execution_count": null,
   "id": "e9ca3c3f-11e7-45e3-ae99-801384a6e1dc",
   "metadata": {},
   "outputs": [],
   "source": [
    "A=np.array([[1,7],[2,4]])\n",
    "A"
   ]
  },
  {
   "cell_type": "code",
   "execution_count": null,
   "id": "ca950d49-2ce9-4860-bd37-c2dd3467736d",
   "metadata": {},
   "outputs": [],
   "source": [
    "np.cov(np.array(A))"
   ]
  },
  {
   "cell_type": "code",
   "execution_count": null,
   "id": "a2dca8b7-8bd6-4c62-82cc-a9ab4cdad0a1",
   "metadata": {},
   "outputs": [],
   "source": [
    "np.cov([1,5],[2,4])"
   ]
  },
  {
   "cell_type": "code",
   "execution_count": null,
   "id": "63a289ac-2b70-4e90-8e32-5b30bffbafa6",
   "metadata": {},
   "outputs": [],
   "source": [
    "np.arccos(9/14**0.5/33**0.5)"
   ]
  },
  {
   "cell_type": "code",
   "execution_count": null,
   "id": "056366c3-36d8-4fdc-b2be-90d1a7c10c8f",
   "metadata": {},
   "outputs": [],
   "source": [
    "A=np.array([[2,1,0],[1,2,-1],[0,-1,2]])"
   ]
  },
  {
   "cell_type": "code",
   "execution_count": null,
   "id": "e1b9b742-c6d5-4553-83a0-2087460f81c2",
   "metadata": {},
   "outputs": [],
   "source": [
    "A"
   ]
  },
  {
   "cell_type": "code",
   "execution_count": null,
   "id": "1d4c6391-326c-4f91-8cef-e2d44ff112b4",
   "metadata": {},
   "outputs": [],
   "source": [
    "x=np.array([1/2,-1,-1/2]).transpose()"
   ]
  },
  {
   "cell_type": "code",
   "execution_count": null,
   "id": "7dda3e62-33d2-41b8-8af8-0c5c25516249",
   "metadata": {},
   "outputs": [],
   "source": [
    "x=(np.array([4,2,1])-np.array([0,1,0])).transpose()"
   ]
  },
  {
   "cell_type": "code",
   "execution_count": null,
   "id": "9a30ff95-d881-46bd-9171-41e8752ffc48",
   "metadata": {},
   "outputs": [],
   "source": [
    "x.transpose()@ A @ x"
   ]
  },
  {
   "cell_type": "code",
   "execution_count": null,
   "id": "0adea07d-503e-4bfc-a30d-5dc84b7b3330",
   "metadata": {},
   "outputs": [],
   "source": [
    "x.transpose()@ A"
   ]
  },
  {
   "cell_type": "code",
   "execution_count": null,
   "id": "17bb377d-0685-4c41-953a-29a9db11574f",
   "metadata": {},
   "outputs": [],
   "source": [
    "42**.5"
   ]
  },
  {
   "cell_type": "code",
   "execution_count": null,
   "id": "aa790775-a382-47f6-ab82-4f7ccbd63241",
   "metadata": {},
   "outputs": [],
   "source": [
    "x=np.array([1,1,1])\n",
    "y=np.array([2,-1,0])\n",
    "\n",
    "def dot(x,y):\n",
    "    A=np.array([[1,0,0],[0,2,-1],[0,-1,3]])\n",
    "    return x.transpose() @ A @y\n",
    "\n",
    "angle=np.arccos(dot(x,y)/(dot(x,x)*dot(y,y))**0.5)\n",
    "print(angle)"
   ]
  },
  {
   "cell_type": "code",
   "execution_count": null,
   "id": "c89b9412-3c50-4928-91c3-074d0379b718",
   "metadata": {},
   "outputs": [],
   "source": [
    "(4/9)**2+2/100"
   ]
  },
  {
   "cell_type": "code",
   "execution_count": null,
   "id": "60f9d48b-4345-469d-822c-634a2965c96f",
   "metadata": {},
   "outputs": [],
   "source": [
    "np.linalg.norm(np.array([1,1,1])-1/9*np.array([5,10,10]))"
   ]
  },
  {
   "cell_type": "code",
   "execution_count": null,
   "id": "87aa233c-165d-4501-996a-c623a6c47ded",
   "metadata": {},
   "outputs": [],
   "source": [
    "B=np.array([[1,1,1],[0,1,2]]).transpose()"
   ]
  },
  {
   "cell_type": "code",
   "execution_count": null,
   "id": "ffaac808-b97a-4c32-adbc-bc82a74a2583",
   "metadata": {},
   "outputs": [],
   "source": [
    "P=B@np.linalg.inv((B.transpose()@B))@B.transpose()"
   ]
  },
  {
   "cell_type": "code",
   "execution_count": null,
   "id": "39a2165f-19c0-470b-9b73-6655ed0d09b0",
   "metadata": {},
   "outputs": [],
   "source": [
    "x=np.array([12,0,0])\n",
    "y=P@x.transpose()"
   ]
  },
  {
   "cell_type": "code",
   "execution_count": null,
   "id": "346b5264-9d91-4d73-bfd3-bf6f27255495",
   "metadata": {},
   "outputs": [],
   "source": [
    "B1=6**0.5*np.array([-10,-4,2]).transpose()\n",
    "P1=B@np.linalg.inv((B.transpose()@B))@B.transpose()\n",
    "P1@y.transpose()"
   ]
  },
  {
   "cell_type": "code",
   "execution_count": null,
   "id": "d4aa3b4e-ec42-4ac9-9088-4b63de9927df",
   "metadata": {},
   "outputs": [],
   "source": [
    "y"
   ]
  },
  {
   "cell_type": "code",
   "execution_count": null,
   "id": "76795b48-dacd-44ed-8777-2f6687f27470",
   "metadata": {},
   "outputs": [],
   "source": [
    "A=np.zeros((10,2))\n",
    "b=np.ones((2,))"
   ]
  },
  {
   "cell_type": "code",
   "execution_count": null,
   "id": "908a1e6d-5c47-4e36-b23d-385aaeb8b6d5",
   "metadata": {},
   "outputs": [],
   "source": [
    "A-b"
   ]
  },
  {
   "cell_type": "code",
   "execution_count": null,
   "id": "b0822f94-aa70-47b0-8f21-efc14080dc43",
   "metadata": {},
   "outputs": [],
   "source": []
  }
 ],
 "metadata": {
  "kernelspec": {
   "display_name": "Python 3",
   "language": "python",
   "name": "python3"
  },
  "language_info": {
   "codemirror_mode": {
    "name": "ipython",
    "version": 3
   },
   "file_extension": ".py",
   "mimetype": "text/x-python",
   "name": "python",
   "nbconvert_exporter": "python",
   "pygments_lexer": "ipython3",
   "version": "3.7.7"
  }
 },
 "nbformat": 4,
 "nbformat_minor": 5
}
