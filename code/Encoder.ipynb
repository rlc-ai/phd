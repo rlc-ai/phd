{
 "cells": [
  {
   "cell_type": "code",
   "execution_count": null,
   "id": "0641f63a-1575-4f31-b5f6-c94933917f99",
   "metadata": {},
   "outputs": [],
   "source": [
    "import pandas as pd\n",
    "import numpy as np\n",
    "import matplotlib.pyplot as plt\n",
    "import tensorflow as tf\n",
    "import os\n",
    "import matplotlib.colors as colors\n",
    "import matplotlib.pyplot as plt\n",
    "from scipy.spatial.distance import cdist\n",
    "from sklearn.cluster import KMeans\n",
    "from sklearn.metrics import mean_squared_error\n",
    "tf.keras.backend.set_floatx('float64')\n",
    "import copy\n",
    "from tqdm import tqdm"
   ]
  },
  {
   "cell_type": "code",
   "execution_count": null,
   "id": "68b3ff49-5881-4e28-bb58-a8d2d11cf132",
   "metadata": {},
   "outputs": [],
   "source": [
    "class ModelGraph:\n",
    "    # graph of a full connected graph\n",
    "    def __init__(self, model):#layer_sizes:list, activations:list):\n",
    "        layer_sizes=[]\n",
    "        for layer in model.layers:\n",
    "            if type(layer.output_shape)==list:\n",
    "                layer_sizes.append(layer.output_shape[0][-1])\n",
    "            else:\n",
    "                layer_sizes.append(layer.output_shape[-1])\n",
    "        self.V=[] # vertexes\n",
    "        self.E=[] # edges\n",
    "        self.V.append(list(range(layer_sizes[0]))) # neuroni di input\n",
    "        for l in layer_sizes[1:]:\n",
    "            self.V.append([v+max(self.V[-1])+1 for v in list(range(l))])\n",
    "            for v in self.V[-2]:\n",
    "                for w in self.V[-1]:\n",
    "                    self.E.append([v,w])\n",
    "            self.V.append([v+max(self.V[-1])+1 for v in list(range(l))])\n",
    "            for i in range(len(self.V[-1])):\n",
    "                self.E.append([self.V[-2][i],self.V[-1][i]])\n",
    "        self.w=[]\n",
    "        for layer in model.layers:\n",
    "            self.w.append(copy.deepcopy(layer.get_weights()))\n",
    "    \n",
    "    def predict(self, X):\n",
    "        return [self.compute_edges(x)[-2:] for x in X]\n",
    "    \n",
    "    def error(self, X):\n",
    "        return np.linalg.norm(X-self.predict(X),axis=1)\n",
    "\n",
    "    def compute_edges(self, point):\n",
    "        edges=[]\n",
    "        p=point\n",
    "        for i in range(1,len(self.w)):\n",
    "            edges.extend((self.w[i][0]*(p.reshape(-1,1))).reshape(-1).tolist())\n",
    "            r=np.dot([p],self.w[i][0])[0].tolist()\n",
    "            q=np.tanh(np.dot([p],self.w[i][0])[0]+self.w[i][1])\n",
    "            edges.extend(q.reshape(-1).tolist())\n",
    "            p=q\n",
    "        return edges\n",
    "    \n",
    "    def set_adj_entry(self, A, index, value):\n",
    "        i,j=self.E[index]\n",
    "        A[i,j]=value\n",
    "        A[j,i]=value\n",
    "        \n",
    "    def compute_adiacent_matrix(self,point):\n",
    "        edges=self.compute_edges(point)\n",
    "        max_vertex_index=max([max(v) for v in self.V])\n",
    "        A=np.zeros((max_vertex_index+1,max_vertex_index+1))\n",
    "        for i in range(len(edges)):\n",
    "            self.set_adj_entry(A,i,edges[i])\n",
    "            \n",
    "        return A\n",
    "    \n",
    "    def compute_energy(self,point):\n",
    "        return np.sum(np.absolute(np.real(np.linalg.eig(self.compute_adiacent_matrix(point))[0])))"
   ]
  },
  {
   "cell_type": "code",
   "execution_count": null,
   "id": "bcad6194-a078-43fb-ad56-49c180362e55",
   "metadata": {},
   "outputs": [],
   "source": [
    "def generate_set():\n",
    "    theta=np.linspace(0, 2*np.pi, num=200)\n",
    "    eta=[2*i*np.pi/3 for i in range(3)]\n",
    "    r0=0.8\n",
    "    r1=0.1\n",
    "\n",
    "    X=[]\n",
    "    for e in eta:\n",
    "        x0=r0*np.cos(e)\n",
    "        y0=r0*np.sin(e)\n",
    "        print(x0,y0)\n",
    "        for t in theta:\n",
    "            X.append([x0+r1*np.cos(t),y0+r1*np.sin(t)])\n",
    "    X=np.array(X)\n",
    "    return X"
   ]
  },
  {
   "cell_type": "code",
   "execution_count": null,
   "id": "b9e5b5ad-5ef5-4bf3-95a4-b265034cdedc",
   "metadata": {},
   "outputs": [],
   "source": [
    "plt.scatter(X[:200,0],X[:200,1],s=.1,c='red')\n",
    "plt.scatter(X[200:400,0],X[200:400,1],s=.1,c='blue')\n",
    "plt.scatter(X[400:600,0],X[400:600,1],s=.1, c='green')\n",
    "plt.axis([-1,1,-1,1])"
   ]
  },
  {
   "cell_type": "code",
   "execution_count": null,
   "id": "ea5af6ba-f15f-41e6-a124-1853b5086b7a",
   "metadata": {},
   "outputs": [],
   "source": [
    "int(3/2)"
   ]
  },
  {
   "cell_type": "code",
   "execution_count": null,
   "id": "2b1bd886-9985-4e34-ba6a-5c2e92699a9a",
   "metadata": {},
   "outputs": [],
   "source": [
    "input=tf.keras.layers.Input(shape=(2,),dtype=tf.float64)\n",
    "encoded=tf.keras.layers.Dense(8,activation='tanh',dtype=tf.float64)(input)\n",
    "encoded=tf.keras.layers.Dense(4,activation='tanh',dtype=tf.float64)(encoded)\n",
    "decoded=tf.keras.layers.Dense(8,activation='tanh',dtype=tf.float64)(encoded)\n",
    "output=tf.keras.layers.Dense(2,activation='tanh',dtype=tf.float64)(decoded)\n",
    "model=tf.keras.models.Model(input,output)\n",
    "model.compile(optimizer=\"Adam\", loss=\"mse\")\n",
    "enc=tf.keras.models.Model(input,encoded)\n",
    "model.summary()"
   ]
  },
  {
   "cell_type": "code",
   "execution_count": null,
   "id": "8241a0af-57fb-45da-9798-2dcba9759bcd",
   "metadata": {
    "tags": []
   },
   "outputs": [],
   "source": [
    "#fig, (ax0, ax1) = plt.subplots(nrows=1, ncols=2,figsize=(50, 6))\n",
    "total_epochs=20000\n",
    "epochs=1000\n",
    "model_graphs=[]\n",
    "history=[]\n",
    "pbar=tqdm(total=int(total_epochs/epochs))\n",
    "for i in range(1,int(total_epochs/epochs)-1):\n",
    "    history.append(model.fit(X,X,epochs=epochs,verbose=0))\n",
    "    model_graphs.append(ModelGraph(model))\n",
    "    pbar.update(1)\n",
    "    #ax0.plot(range(len(history[-1].history['loss'])),history[-1].history['loss'])\n",
    "    #ax0.set_title('loss')\n",
    "    #ax1.plot(range(len(X)),[model_graphs[-1].compute_energy(x) for x in X])\n",
    "pbar.close()"
   ]
  },
  {
   "cell_type": "code",
   "execution_count": null,
   "id": "68de2118-1e82-4275-adb0-d45afa89c295",
   "metadata": {},
   "outputs": [],
   "source": [
    "t_h=[]\n",
    "for h in history:\n",
    "    t_h.extend(h.history['loss'])\n",
    "plt.plot(range(len(t_h)-2000),t_h[2000:])"
   ]
  },
  {
   "cell_type": "code",
   "execution_count": null,
   "id": "f308195e-e190-46a1-b1ea-777b3b7298e6",
   "metadata": {},
   "outputs": [],
   "source": [
    "E=[]\n",
    "for mg in model_graphs:\n",
    "    E.append([mg.compute_energy(x) for x in X])"
   ]
  },
  {
   "cell_type": "code",
   "execution_count": null,
   "id": "c462e494-585a-4e9a-a09d-ca7b693baf0d",
   "metadata": {},
   "outputs": [],
   "source": [
    "plt.figure(figsize=(10,10))\n",
    "for i in range(len(E)):\n",
    "    plt.plot(range(len(E[i])),E[i])\n",
    "plt.plot(range(len(E_u)),E_u)"
   ]
  },
  {
   "cell_type": "code",
   "execution_count": null,
   "id": "792f3120-5f1a-4e2b-be95-f6dd7ae2893d",
   "metadata": {},
   "outputs": [],
   "source": [
    "np.tanh(1)"
   ]
  },
  {
   "cell_type": "code",
   "execution_count": null,
   "id": "1c3c49c3-2089-469d-97c6-dc3765e173c4",
   "metadata": {},
   "outputs": [],
   "source": [
    "input_u=tf.keras.layers.Input(shape=(2,),dtype=tf.float64)\n",
    "encoded_u=tf.keras.layers.Dense(16,activation='linear',dtype=tf.float64)(input_u)\n",
    "encoded_u=tf.keras.layers.Dense(4,activation='linear',dtype=tf.float64)(encoded_u)\n",
    "decoded_u=tf.keras.layers.Dense(16,activation='linear',dtype=tf.float64)(encoded_u)\n",
    "output_u=tf.keras.layers.Dense(2,activation='linear',dtype=tf.float64)(decoded_u)\n",
    "model_u=tf.keras.models.Model(input_u,output_u)\n",
    "model_u.compile(optimizer=\"Adam\", loss=\"mse\")\n",
    "enc=tf.keras.models.Model(input_u,encoded_u)\n",
    "model_u.summary()"
   ]
  },
  {
   "cell_type": "code",
   "execution_count": null,
   "id": "bb5a2fbd-8b7f-4d7e-abef-055a2f006826",
   "metadata": {},
   "outputs": [],
   "source": [
    "w=[]\n",
    "w.append([np.zeros((2,16)),np.zeros(16)])\n",
    "w[-1][0][0,0]=w[-1][0][1,1]=1.\n",
    "w.append([np.zeros((16,4)),np.zeros(4)])\n",
    "for i in range(4):\n",
    "    w[-1][0][i,i]=1.\n",
    "w.append([np.zeros((4,16)),np.zeros(16)])\n",
    "for i in range(4):\n",
    "    w[-1][0][i,i]=1.\n",
    "w.append([np.zeros((16,2)),np.zeros(2)])\n",
    "for i in range(2):\n",
    "    w[-1][0][i,i]=1.\n"
   ]
  },
  {
   "cell_type": "code",
   "execution_count": null,
   "id": "de4b23d7-159e-4f92-928c-521b67237a54",
   "metadata": {},
   "outputs": [],
   "source": [
    "for i in range(1,len(model_u.layers)):\n",
    "    model_u.layers[i].set_weights(w[i-1])"
   ]
  },
  {
   "cell_type": "code",
   "execution_count": null,
   "id": "73938d5c-234d-4686-ad38-981dd1507cbb",
   "metadata": {},
   "outputs": [],
   "source": [
    "mg_u=ModelGraph(model_u)\n",
    "E_u=[mg_u.compute_energy(x) for x in X]"
   ]
  },
  {
   "cell_type": "code",
   "execution_count": null,
   "id": "bc46217e-a72b-467f-a2a0-5aeae304f664",
   "metadata": {
    "tags": []
   },
   "outputs": [],
   "source": [
    "n=[]\n",
    "for i in range(len(E)-1):\n",
    "    n.append(np.linalg.norm(np.array(E[i+1])-np.array(E[i])))"
   ]
  },
  {
   "cell_type": "code",
   "execution_count": null,
   "id": "01d08696-fddc-46d8-97a6-8756a97ea2b6",
   "metadata": {},
   "outputs": [],
   "source": [
    "T=np.linspace(-2,2,1000)\n",
    "E_m=np.zeros((len(T),len(T)))\n",
    "mg=model_graphs[-1]"
   ]
  },
  {
   "cell_type": "code",
   "execution_count": null,
   "id": "a95e956f-a2ac-4cc5-bf17-f5fe86412b1e",
   "metadata": {},
   "outputs": [],
   "source": [
    "pbar=tqdm(total=len(T)**2)\n",
    "for i in range(len(T)):\n",
    "    for j in range(len(T)):\n",
    "        E_m[i,j]=mg.compute_energy(np.array([T[i],T[j]]))\n",
    "        pbar.update(1)\n",
    "pbar.close()"
   ]
  },
  {
   "cell_type": "code",
   "execution_count": null,
   "id": "7a0f090f-e55d-4e9c-881d-795566622ddf",
   "metadata": {},
   "outputs": [],
   "source": [
    "pbar.close()"
   ]
  },
  {
   "cell_type": "code",
   "execution_count": null,
   "id": "e6e334a7-aa1f-41c4-980d-4911003541cc",
   "metadata": {},
   "outputs": [],
   "source": [
    "i=0"
   ]
  },
  {
   "cell_type": "code",
   "execution_count": null,
   "id": "257959b3-c8a5-4ff8-a472-e6a5c8621918",
   "metadata": {},
   "outputs": [],
   "source": [
    "errors[i]=np.linalg.norm(model.predict(np.array([[T[i],t] for t in T]))-np.array([[T[i],t] for t in T]),axis=1)"
   ]
  },
  {
   "cell_type": "code",
   "execution_count": null,
   "id": "01393961-64ee-4018-a0ac-9c1f90459eac",
   "metadata": {},
   "outputs": [],
   "source": [
    "errors=np.zeros((len(T),len(T)))\n",
    "pbar=tqdm(total=len(T))\n",
    "for i in range(len(T)):\n",
    "    errors[i]=np.linalg.norm(model.predict(np.array([[T[i],t] for t in T]))-np.array([[T[i],t] for t in T]),axis=1)\n",
    "    pbar.update(1)\n",
    "pbar.close()"
   ]
  },
  {
   "cell_type": "code",
   "execution_count": null,
   "id": "31408335-ea75-436c-b775-50dfc2c9f923",
   "metadata": {
    "tags": []
   },
   "outputs": [],
   "source": [
    "plt.figure(figsize=(20,20))\n",
    "plt.contourf(T,T,E_m,1000)\n",
    "plt.colorbar()\n",
    "plt.scatter(X[:,0],X[:,1],c='red')"
   ]
  },
  {
   "cell_type": "code",
   "execution_count": null,
   "id": "991189fd-0f1c-4d4d-bbf5-9e513dadf007",
   "metadata": {},
   "outputs": [],
   "source": [
    "plt.figure(figsize=(20,20))\n",
    "plt.contourf(T,T,errors,1000)\n",
    "plt.colorbar()\n",
    "plt.scatter(X[:,0],X[:,1],c='red')"
   ]
  },
  {
   "cell_type": "code",
   "execution_count": null,
   "id": "90afbbb2-b1d3-47fa-a39e-920585e2b98c",
   "metadata": {
    "tags": []
   },
   "outputs": [],
   "source": [
    "for t,v in zip(model_graphs[-1].E,model_graphs[-1].compute_edges(X[0])):\n",
    "    print(t,v)"
   ]
  },
  {
   "cell_type": "code",
   "execution_count": null,
   "id": "dfafa13c-55dd-4833-8a38-10a2e3df73dc",
   "metadata": {},
   "outputs": [],
   "source": [
    "import gudhi as gd"
   ]
  },
  {
   "cell_type": "code",
   "execution_count": null,
   "id": "bc875dce-36e4-4d33-8f7f-bf61236e98f7",
   "metadata": {},
   "outputs": [],
   "source": [
    "st = gd.SimplexTree()"
   ]
  },
  {
   "cell_type": "code",
   "execution_count": null,
   "id": "f7d90379-9422-496e-aed5-64948b9bef5f",
   "metadata": {},
   "outputs": [],
   "source": [
    "for t,v in zip(model_graphs[-1].E,model_graphs[-1].compute_edges(X[0])):\n",
    "    st.assign_filtration(t,abs(v))"
   ]
  },
  {
   "cell_type": "code",
   "execution_count": null,
   "id": "33c7d3f2-b301-456a-acb6-032a062ffb75",
   "metadata": {},
   "outputs": [],
   "source": [
    "abs(-1)"
   ]
  },
  {
   "cell_type": "code",
   "execution_count": null,
   "id": "48c8cdbf-d45d-49e3-8921-045bea28a021",
   "metadata": {},
   "outputs": [],
   "source": []
  },
  {
   "cell_type": "code",
   "execution_count": null,
   "id": "9d890b8e-8217-4dcb-ab8f-a47674e35927",
   "metadata": {},
   "outputs": [],
   "source": []
  },
  {
   "cell_type": "code",
   "execution_count": null,
   "id": "6107325f-b52d-4b29-add6-bf8c4e7c37a1",
   "metadata": {},
   "outputs": [],
   "source": []
  },
  {
   "cell_type": "code",
   "execution_count": null,
   "id": "ffae9a23-fc39-4aff-bbd5-a14014d3003d",
   "metadata": {},
   "outputs": [],
   "source": []
  },
  {
   "cell_type": "code",
   "execution_count": null,
   "id": "25ad908d-c0ef-4e10-b2b0-c223c0757847",
   "metadata": {},
   "outputs": [],
   "source": []
  },
  {
   "cell_type": "code",
   "execution_count": null,
   "id": "98994a92-08c1-47cb-9f4f-1a122f75311d",
   "metadata": {},
   "outputs": [],
   "source": []
  },
  {
   "cell_type": "code",
   "execution_count": null,
   "id": "82a3d491-8496-456b-bb4b-1699661e5df5",
   "metadata": {},
   "outputs": [],
   "source": []
  },
  {
   "cell_type": "code",
   "execution_count": null,
   "id": "9b5e934e-a4c9-4647-9d25-af4699b3b9cc",
   "metadata": {},
   "outputs": [],
   "source": [
    "Y=model.predict(X[200:400])\n",
    "\n",
    "fig, (ax0, ax1, ax2) = plt.subplots(nrows=1, ncols=3,figsize=(50, 6))\n",
    "\n",
    "ax0.plot(range(len(history.history['loss'])-1000),history.history['loss'][1000:])\n",
    "ax1.set_title('training error')\n",
    "for i in range(1,2):\n",
    "    ax1.plot(range(200),np.linalg.norm(X[i*200:(i+1)*200,:]-Y[(i-1)*200:(i)*200,:],axis=1))\n",
    "\n",
    "ax2.set_title('error on data set')\n",
    "ax2.scatter(X[:,0],X[:,1])\n",
    "ax2.scatter(Y[:,0],Y[:,1])"
   ]
  },
  {
   "cell_type": "code",
   "execution_count": null,
   "id": "f4a1e631-545a-41f2-9b91-e13a24ef715f",
   "metadata": {},
   "outputs": [],
   "source": [
    "# Tracciamento dei percorsi di attivazione e ricostruzione della topologia dei pattern di attivazione"
   ]
  },
  {
   "cell_type": "code",
   "execution_count": null,
   "id": "47df4ebb-81c0-4d78-948c-6f1fd07a7d30",
   "metadata": {},
   "outputs": [],
   "source": [
    "w=[]\n",
    "for layer in model.layers:\n",
    "    w.append(layer.get_weights())"
   ]
  },
  {
   "cell_type": "code",
   "execution_count": null,
   "id": "808b91f8-3374-4c12-9ea1-605df958dbc0",
   "metadata": {},
   "outputs": [],
   "source": [
    "w[1][0].shape"
   ]
  },
  {
   "cell_type": "code",
   "execution_count": null,
   "id": "b45bda4b-fc80-42ea-95c4-1cc793d2e3ab",
   "metadata": {},
   "outputs": [],
   "source": [
    "model.input.shape.dims[-1].value"
   ]
  },
  {
   "cell_type": "code",
   "execution_count": null,
   "id": "4f37bbec-4248-47c0-90d4-9968a4a4b87e",
   "metadata": {},
   "outputs": [],
   "source": [
    "### Numero i nodi:\n",
    "nodes=[]\n",
    "for layer in model.layers:\n",
    "    if type(layer.output_shape)==list:\n",
    "        l=layer.output_shape[0][-1]\n",
    "        nodes.append(list(range(l)))\n",
    "    else:\n",
    "        l=layer.output_shape[-1]\n",
    "        nodes.append(list(range(l)))\n",
    "        nodes.append(list(range(l)))\n",
    "nodes"
   ]
  },
  {
   "cell_type": "code",
   "execution_count": null,
   "id": "b33f6e19-47ef-485b-83b0-720a121a3649",
   "metadata": {},
   "outputs": [],
   "source": [
    "import copy"
   ]
  },
  {
   "cell_type": "code",
   "execution_count": null,
   "id": "b352b908-b5de-41a3-94ff-93a523581839",
   "metadata": {},
   "outputs": [],
   "source": []
  },
  {
   "cell_type": "code",
   "execution_count": null,
   "id": "4808d2f1-775d-43bb-b005-fbd6933ebb7d",
   "metadata": {},
   "outputs": [],
   "source": [
    "mg=ModelGraph(model)"
   ]
  },
  {
   "cell_type": "code",
   "execution_count": null,
   "id": "3388442b-5dc8-4200-8b8b-3057ea931490",
   "metadata": {},
   "outputs": [],
   "source": [
    "mg1=ModelGraph(model)"
   ]
  },
  {
   "cell_type": "code",
   "execution_count": null,
   "id": "deea9eea-6133-4e1d-af21-6e31042a7ab8",
   "metadata": {},
   "outputs": [],
   "source": [
    "mg2=ModelGraph(model)"
   ]
  },
  {
   "cell_type": "code",
   "execution_count": null,
   "id": "fc2f00a0-b85d-4df8-aefe-96fd3e08993a",
   "metadata": {},
   "outputs": [],
   "source": [
    "mg.compute_energy(X[0])"
   ]
  },
  {
   "cell_type": "code",
   "execution_count": null,
   "id": "936ff7ea-8fc2-4339-bdba-576e61719a6f",
   "metadata": {},
   "outputs": [],
   "source": [
    "mg1.compute_energy(X[0])"
   ]
  },
  {
   "cell_type": "code",
   "execution_count": null,
   "id": "311f1f9d-2742-47b5-9922-f99237ea4797",
   "metadata": {},
   "outputs": [],
   "source": [
    "mg2.compute_energy(X[0])"
   ]
  },
  {
   "cell_type": "code",
   "execution_count": null,
   "id": "f260bb2b-277f-4a3e-9e27-58c45397cda5",
   "metadata": {},
   "outputs": [],
   "source": [
    "E=[mg.compute_energy(x) for x in X]"
   ]
  },
  {
   "cell_type": "code",
   "execution_count": null,
   "id": "95047067-af90-4153-8f52-df3974e5eb36",
   "metadata": {},
   "outputs": [],
   "source": [
    "E1=[mg1.compute_energy(x) for x in X]"
   ]
  },
  {
   "cell_type": "code",
   "execution_count": null,
   "id": "a7d81079-84a3-4242-9c79-b260a4cf51cd",
   "metadata": {},
   "outputs": [],
   "source": [
    "E2=[mg2.compute_energy(x) for x in X]"
   ]
  },
  {
   "cell_type": "code",
   "execution_count": null,
   "id": "43493fce-8497-4a78-a93b-f65e041856f7",
   "metadata": {},
   "outputs": [],
   "source": [
    "#plt.plot(range(len(E)),E-min(E),c='red')\n",
    "#plt.plot(range(len(E1)),E1-min(E1),c='blue')\n",
    "#plt.plot(range(len(E2)),E2-min(E2),c='green')\n",
    "\n",
    "plt.plot(range(len(E)),E,c='red')\n",
    "plt.plot(range(len(E1)),E1,c='blue')\n",
    "plt.plot(range(len(E2)),E2,c='green')"
   ]
  },
  {
   "cell_type": "code",
   "execution_count": null,
   "id": "99e43115-cd1a-4dfa-b2df-12e6a27f4166",
   "metadata": {},
   "outputs": [],
   "source": [
    "a=np.linalg.norm(X-[mg.compute_edges(x)[-2:] for x in X], axis=1)\n",
    "b=np.linalg.norm(X-[mg1.compute_edges(x)[-2:] for x in X], axis=1)\n",
    "c=np.linalg.norm(X-[mg2.compute_edges(x)[-2:] for x in X], axis=1)"
   ]
  },
  {
   "cell_type": "code",
   "execution_count": null,
   "id": "e4d7c747-a7aa-402b-8fc2-c17da519aa61",
   "metadata": {},
   "outputs": [],
   "source": [
    "plt.figure(figsize=(30,10))\n",
    "plt.plot(range(len(E)),np.linalg.norm(X-[mg.compute_edges(x)[-2:] for x in X], axis=1),c='red')\n",
    "plt.plot(range(len(E1)),np.linalg.norm(X-[mg1.compute_edges(x)[-2:] for x in X], axis=1),c='blue')\n",
    "plt.plot(range(len(E2)),np.linalg.norm(X-[mg2.compute_edges(x)[-2:] for x in X], axis=1),c='green')"
   ]
  },
  {
   "cell_type": "code",
   "execution_count": null,
   "id": "ccfd89dd-485e-433d-81c9-cb4b4eb8b442",
   "metadata": {
    "tags": []
   },
   "outputs": [],
   "source": [
    "max(E-min(E))"
   ]
  },
  {
   "cell_type": "code",
   "execution_count": null,
   "id": "d582266f-24de-4dc9-a096-347471aeb773",
   "metadata": {},
   "outputs": [],
   "source": [
    "import matplotlib.pyplot as plt\n",
    "import matplotlib.cm as cm"
   ]
  },
  {
   "cell_type": "code",
   "execution_count": null,
   "id": "97e87fb0-f790-4ce8-9121-220cd4be13b8",
   "metadata": {},
   "outputs": [],
   "source": [
    "fig, (ax0, ax1) = plt.subplots(nrows=1, ncols=2,figsize=(20, 10))\n",
    "ax0.scatter(X[:,0],X[:,1],c=E,cmap='viridis')\n",
    "abs_err=np.linalg.norm(X-[mg.compute_edges(x)[-2:] for x in X], axis=1)\n",
    "#ax0.colorbar()\n",
    "ax1.scatter(X[:,0],X[:,1],c=abs_err)"
   ]
  },
  {
   "cell_type": "code",
   "execution_count": null,
   "id": "9e1915e4-67c0-4418-b0cd-bea0f0849d8a",
   "metadata": {},
   "outputs": [],
   "source": [
    "fig, (ax0, ax1) = plt.subplots(nrows=1, ncols=2,figsize=(20, 10))\n",
    "ax0.scatter(X[:,0],X[:,1],c=E,cmap='viridis')\n",
    "abs_err=np.linalg.norm(X-[mg1.compute_edges(x)[-2:] for x in X], axis=1)\n",
    "#ax0.colorbar()\n",
    "ax1.scatter(X[:,0],X[:,1],c=abs_err)"
   ]
  },
  {
   "cell_type": "code",
   "execution_count": null,
   "id": "328db9c2-a8b2-449c-9f45-d1193ac8ca9b",
   "metadata": {},
   "outputs": [],
   "source": [
    "fig, (ax0, ax1) = plt.subplots(nrows=1, ncols=2,figsize=(20, 10))\n",
    "ax0.scatter(X[:,0],X[:,1],c=E,cmap='viridis')\n",
    "abs_err=np.linalg.norm(X-[mg2.compute_edges(x)[-2:] for x in X], axis=1)\n",
    "#ax0.colorbar()\n",
    "ax1.scatter(X[:,0],X[:,1],c=abs_err)"
   ]
  },
  {
   "cell_type": "code",
   "execution_count": null,
   "id": "486e4561-227d-43f2-a683-581b52c934d0",
   "metadata": {},
   "outputs": [],
   "source": [
    "ax = plt.axes(projection='3d')\n",
    "z=(E2-min(E2))[:200]\n",
    "ax.scatter3D(X[:200,0], X[:200,1], z, c=z, cmap='Greens');\n",
    "z=(E2-min(E2))[200:400]\n",
    "ax.scatter3D(X[200:400,0], X[200:400,1], z, c=z, cmap='Greens');\n",
    "z=(E2-min(E2))[400:600]\n",
    "ax.scatter3D(X[400:600,0], X[400:600,1], z, c=z, cmap='Greens');"
   ]
  },
  {
   "cell_type": "code",
   "execution_count": null,
   "id": "bba10502-25eb-4840-97fd-b075dd68a8b1",
   "metadata": {},
   "outputs": [],
   "source": []
  },
  {
   "cell_type": "code",
   "execution_count": null,
   "id": "805201e0-009e-4d54-8e08-064760e73956",
   "metadata": {},
   "outputs": [],
   "source": [
    "Y=model.predict(X)"
   ]
  },
  {
   "cell_type": "code",
   "execution_count": null,
   "id": "88106a59-3eb3-4838-9b9c-4536f4c3cf52",
   "metadata": {},
   "outputs": [],
   "source": [
    "abs_err=np.linalg.norm(X-Y, axis=1)"
   ]
  },
  {
   "cell_type": "code",
   "execution_count": null,
   "id": "d9ceef8f-502c-4638-8dde-aec7a1a479aa",
   "metadata": {},
   "outputs": [],
   "source": [
    "max((E-min(E))/max(E))"
   ]
  },
  {
   "cell_type": "code",
   "execution_count": null,
   "id": "ea5ce035-ba64-4bea-9e20-91f080aea61a",
   "metadata": {},
   "outputs": [],
   "source": [
    "plt.plot(range(200),(abs_err[:200]-min(abs_err[:200]))/(max(abs_err[:200])-min(abs_err[:200])),c='red')\n",
    "plt.plot(range(200),(E[:200]-min(E[:200]))/(max(E[:200])-min(E[:200])),c='green')\n",
    "plt.plot(range(200,400),(abs_err[200:400]-min(abs_err[200:400]))/(max(abs_err[200:400])-min(abs_err[200:400])),c='red')\n",
    "plt.plot(range(200,400),(E[200:400]-min(E[200:400]))/(max(E[200:400])-min(E[200:400])),c='green')\n",
    "plt.plot(range(400,600),(abs_err[400:600]-min(abs_err[400:600]))/(max(abs_err[400:600])-min(abs_err[400:600])),c='red')\n",
    "plt.plot(range(400,600),(E[400:600]-min(E[400:600]))/(max(E[400:600])-min(E[400:600])),c='green')"
   ]
  },
  {
   "cell_type": "code",
   "execution_count": null,
   "id": "67472420-bf24-4e82-aed3-ccbef2b3bad4",
   "metadata": {},
   "outputs": [],
   "source": [
    "plt.plot(range(len(abs_err)),(abs_err-min(abs_err))/(max(abs_err)-min(abs_err)),c='red')\n",
    "plt.plot(range(len(abs_err)),(E-min(E))/(max(E)-min(E)),c='green')"
   ]
  },
  {
   "cell_type": "code",
   "execution_count": null,
   "id": "dca7fb59-ef3c-496b-a386-c539d33bc380",
   "metadata": {},
   "outputs": [],
   "source": []
  },
  {
   "cell_type": "code",
   "execution_count": null,
   "id": "f09594cf-f7bb-4dd7-9cf1-327cd34ec22d",
   "metadata": {},
   "outputs": [],
   "source": []
  },
  {
   "cell_type": "code",
   "execution_count": null,
   "id": "5a729885-6296-4d77-81e3-74dbf7c75715",
   "metadata": {},
   "outputs": [],
   "source": []
  },
  {
   "cell_type": "code",
   "execution_count": null,
   "id": "9ca54db3-8174-42af-b001-168dc58bfc5b",
   "metadata": {},
   "outputs": [],
   "source": []
  },
  {
   "cell_type": "code",
   "execution_count": null,
   "id": "1dbe8325-fcaa-4ee8-bdf5-d3550a9f6bea",
   "metadata": {},
   "outputs": [],
   "source": []
  },
  {
   "cell_type": "code",
   "execution_count": null,
   "id": "4ee73989-6da0-40a5-97f0-70faafdcc8ef",
   "metadata": {},
   "outputs": [],
   "source": []
  }
 ],
 "metadata": {
  "kernelspec": {
   "display_name": "Python 3 (ipykernel)",
   "language": "python",
   "name": "python3"
  },
  "language_info": {
   "codemirror_mode": {
    "name": "ipython",
    "version": 3
   },
   "file_extension": ".py",
   "mimetype": "text/x-python",
   "name": "python",
   "nbconvert_exporter": "python",
   "pygments_lexer": "ipython3",
   "version": "3.7.13"
  }
 },
 "nbformat": 4,
 "nbformat_minor": 5
}
